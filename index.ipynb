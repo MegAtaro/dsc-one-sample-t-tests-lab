{
 "cells": [
  {
   "cell_type": "markdown",
   "metadata": {},
   "source": [
    "# One Sample T-Test - Lab\n",
    "\n",
    "## Introduction\n",
    "Just as you previously used the t-distribution to provide confidence intervals for estimating the population mean, you can also use similar methods to test whether two populations are different, statistically speaking. To do this, you can use a t-test.\n",
    "\n",
    "## Objectives\n",
    "You will be able to:\n",
    "\n",
    "* Perform a one sample t-test and make conclusions about an experiment based on the results\n",
    "\n",
    "### Exercise 1: \n",
    "\n",
    "Create a function in Python `one_sample_ttest(sample, popmean, alpha)` that will take in sample data (an array of observations), the population mean and the alpha value to calculate and print out the t-statistic, critical t-value, and p-value for the sample and identify if the results are significant or not. The function should also create a visualization using `seaborn` of the distribution to check for normality."
   ]
  },
  {
   "cell_type": "code",
   "execution_count": 13,
   "metadata": {},
   "outputs": [],
   "source": [
    "def one_sample_ttest(sample, popmean, alpha):\n",
    "\n",
    "    # Visualize sample distribution for normality \n",
    "    sns.histplot(sample, kde=True, bins=10)\n",
    "    plt.axvline(sample_mean, color='r', linestyle='dashed', linewidth=2, label=\"Sample Mean\")\n",
    "    plt.axvline(popmean, color='b', linestyle='solid', linewidth=2, label=\"Population Mean\")\n",
    "    plt.legend()\n",
    "    plt.title(\"Sample Distribution with Population Mean\")\n",
    "    plt.xlabel(\"Value\")\n",
    "    plt.ylabel(\"Frequency\")\n",
    "    plt.show()\n",
    "\n",
    "    \n",
    "    # Population mean\n",
    "    pop_mean = popmean\n",
    "\n",
    "\n",
    "    # Sample mean (x̄) using NumPy mean()\n",
    "    sample_mean = np.mean(sample)\n",
    "\n",
    "\n",
    "    # Sample Standard Deviation (sigma) using Numpy\n",
    "    sample_std = np.std(sample)\n",
    "\n",
    "    \n",
    "    # Degrees of freedom\n",
    "    df = len(sample) - 1\n",
    "    \n",
    "    # Calculate the critical t-value\n",
    "    critical_t = stats.t.ppf(1 - alpha/2, df)\n",
    "\n",
    "    \n",
    "    # Calculate the t-value and p-value\n",
    "    t_stat, p_val = stats.ttest_1samp(sample, popmean)\n",
    "    \n",
    "    # return results\n",
    "    return t_stat, p_val, critical_t, sample_mean, sample_std, df"
   ]
  },
  {
   "cell_type": "markdown",
   "metadata": {},
   "source": [
    "### Exercise 2:\n",
    "\n",
    "Use the function created in Exercise 1 to answer the following analytical questions.\n",
    "\n",
    "In a Python class, some of the students have taken online courses to improve their Python skills.\n",
    "The scores of a random sample of 20 students who underwent the online-course on a Python test are as follows: \n",
    "\n",
    "     [84.0, 92.4, 74.3, 79.4, 86.7, 75.3, 90.9, 86.1, 81.0, 85.1, \n",
    "      78.7, 73.5, 86.9, 87.4, 82.7, 81.9, 69.9, 77.2, 79.3, 83.3]\n",
    "\n",
    "The mean score of the class before the test is 65. The teacher thinks that the online training has really helped the students and now they should perform better than the class (population) mean. Use this to set your null and alternative hypotheses.\n",
    "\n",
    "1. Test to see if the sample mean is significantly different from 65 at the .05 level. Report the t- and p-values.\n",
    "2. The researcher realizes that she accidentally recorded the score that should have been 80.9 as 90.9. Are these corrected scores significantly different from 65 at the .05 level?\n",
    "\n",
    "Bonus: What is the effect size of the first sample compared to the population? How can you interpret this effect size in relation to your significance test?\n",
    "\n",
    "\n",
    "### Solution:"
   ]
  },
  {
   "cell_type": "code",
   "execution_count": 17,
   "metadata": {
    "scrolled": true
   },
   "outputs": [
    {
     "ename": "UnboundLocalError",
     "evalue": "cannot access local variable 'sample_mean' where it is not associated with a value",
     "output_type": "error",
     "traceback": [
      "\u001b[1;31m---------------------------------------------------------------------------\u001b[0m",
      "\u001b[1;31mUnboundLocalError\u001b[0m                         Traceback (most recent call last)",
      "Cell \u001b[1;32mIn[17], line 16\u001b[0m\n\u001b[0;32m     10\u001b[0m sample_scores \u001b[38;5;241m=\u001b[39m np\u001b[38;5;241m.\u001b[39marray([\n\u001b[0;32m     11\u001b[0m     \u001b[38;5;241m84.0\u001b[39m, \u001b[38;5;241m92.4\u001b[39m, \u001b[38;5;241m74.3\u001b[39m, \u001b[38;5;241m79.4\u001b[39m, \u001b[38;5;241m86.7\u001b[39m, \u001b[38;5;241m75.3\u001b[39m, \u001b[38;5;241m90.9\u001b[39m, \u001b[38;5;241m86.1\u001b[39m, \u001b[38;5;241m81.0\u001b[39m, \u001b[38;5;241m85.1\u001b[39m, \n\u001b[0;32m     12\u001b[0m     \u001b[38;5;241m78.7\u001b[39m, \u001b[38;5;241m73.5\u001b[39m, \u001b[38;5;241m86.9\u001b[39m, \u001b[38;5;241m87.4\u001b[39m, \u001b[38;5;241m82.7\u001b[39m, \u001b[38;5;241m81.9\u001b[39m, \u001b[38;5;241m69.9\u001b[39m, \u001b[38;5;241m77.2\u001b[39m, \u001b[38;5;241m79.3\u001b[39m, \u001b[38;5;241m83.3\u001b[39m])\n\u001b[0;32m     14\u001b[0m pop_mean \u001b[38;5;241m=\u001b[39m \u001b[38;5;241m65.0\u001b[39m\n\u001b[1;32m---> 16\u001b[0m \u001b[43mone_sample_ttest\u001b[49m\u001b[43m(\u001b[49m\u001b[43msample_scores\u001b[49m\u001b[43m,\u001b[49m\u001b[43m \u001b[49m\u001b[43mpop_mean\u001b[49m\u001b[43m,\u001b[49m\u001b[43m \u001b[49m\u001b[43malpha\u001b[49m\u001b[38;5;241;43m=\u001b[39;49m\u001b[38;5;241;43m0.05\u001b[39;49m\u001b[43m)\u001b[49m\n\u001b[0;32m     19\u001b[0m \u001b[38;5;66;03m#to correct the wrongly recorded score\u001b[39;00m\n\u001b[0;32m     20\u001b[0m corrected_scores \u001b[38;5;241m=\u001b[39m np\u001b[38;5;241m.\u001b[39marray([\n\u001b[0;32m     21\u001b[0m     \u001b[38;5;241m84.0\u001b[39m, \u001b[38;5;241m92.4\u001b[39m, \u001b[38;5;241m74.3\u001b[39m, \u001b[38;5;241m79.4\u001b[39m, \u001b[38;5;241m86.7\u001b[39m, \u001b[38;5;241m75.3\u001b[39m, \u001b[38;5;241m80.9\u001b[39m, \u001b[38;5;241m86.1\u001b[39m, \u001b[38;5;241m81.0\u001b[39m, \u001b[38;5;241m85.1\u001b[39m, \n\u001b[0;32m     22\u001b[0m     \u001b[38;5;241m78.7\u001b[39m, \u001b[38;5;241m73.5\u001b[39m, \u001b[38;5;241m86.9\u001b[39m, \u001b[38;5;241m87.4\u001b[39m, \u001b[38;5;241m82.7\u001b[39m, \u001b[38;5;241m81.9\u001b[39m, \u001b[38;5;241m69.9\u001b[39m, \u001b[38;5;241m77.2\u001b[39m, \u001b[38;5;241m79.3\u001b[39m, \u001b[38;5;241m83.3\u001b[39m\n\u001b[0;32m     23\u001b[0m ])\n",
      "Cell \u001b[1;32mIn[13], line 5\u001b[0m, in \u001b[0;36mone_sample_ttest\u001b[1;34m(sample, popmean, alpha)\u001b[0m\n\u001b[0;32m      1\u001b[0m \u001b[38;5;28;01mdef\u001b[39;00m\u001b[38;5;250m \u001b[39m\u001b[38;5;21mone_sample_ttest\u001b[39m(sample, popmean, alpha):\n\u001b[0;32m      2\u001b[0m \n\u001b[0;32m      3\u001b[0m     \u001b[38;5;66;03m# Visualize sample distribution for normality \u001b[39;00m\n\u001b[0;32m      4\u001b[0m     sns\u001b[38;5;241m.\u001b[39mhistplot(sample, kde\u001b[38;5;241m=\u001b[39m\u001b[38;5;28;01mTrue\u001b[39;00m, bins\u001b[38;5;241m=\u001b[39m\u001b[38;5;241m10\u001b[39m)\n\u001b[1;32m----> 5\u001b[0m     plt\u001b[38;5;241m.\u001b[39maxvline(\u001b[43msample_mean\u001b[49m, color\u001b[38;5;241m=\u001b[39m\u001b[38;5;124m'\u001b[39m\u001b[38;5;124mr\u001b[39m\u001b[38;5;124m'\u001b[39m, linestyle\u001b[38;5;241m=\u001b[39m\u001b[38;5;124m'\u001b[39m\u001b[38;5;124mdashed\u001b[39m\u001b[38;5;124m'\u001b[39m, linewidth\u001b[38;5;241m=\u001b[39m\u001b[38;5;241m2\u001b[39m, label\u001b[38;5;241m=\u001b[39m\u001b[38;5;124m\"\u001b[39m\u001b[38;5;124mSample Mean\u001b[39m\u001b[38;5;124m\"\u001b[39m)\n\u001b[0;32m      6\u001b[0m     plt\u001b[38;5;241m.\u001b[39maxvline(popmean, color\u001b[38;5;241m=\u001b[39m\u001b[38;5;124m'\u001b[39m\u001b[38;5;124mb\u001b[39m\u001b[38;5;124m'\u001b[39m, linestyle\u001b[38;5;241m=\u001b[39m\u001b[38;5;124m'\u001b[39m\u001b[38;5;124msolid\u001b[39m\u001b[38;5;124m'\u001b[39m, linewidth\u001b[38;5;241m=\u001b[39m\u001b[38;5;241m2\u001b[39m, label\u001b[38;5;241m=\u001b[39m\u001b[38;5;124m\"\u001b[39m\u001b[38;5;124mPopulation Mean\u001b[39m\u001b[38;5;124m\"\u001b[39m)\n\u001b[0;32m      7\u001b[0m     plt\u001b[38;5;241m.\u001b[39mlegend()\n",
      "\u001b[1;31mUnboundLocalError\u001b[0m: cannot access local variable 'sample_mean' where it is not associated with a value"
     ]
    },
    {
     "data": {
      "image/png": "[encoded data removed]",
      "text/plain": [
       "<Figure size 640x480 with 1 Axes>"
      ]
     },
     "metadata": {},
     "output_type": "display_data"
    }
   ],
   "source": [
    "# (Null hypothesis)H0 = The online course has no effect on scores\n",
    "# (Alternative hypothesis)H1 = The online course has an effect on scores(sample mean is significantly higher than 65)\n",
    "\n",
    "\n",
    "import numpy as np\n",
    "import scipy.stats as stats\n",
    "import seaborn as sns\n",
    "import matplotlib.pyplot as plt\n",
    "\n",
    "sample_scores = np.array([\n",
    "    84.0, 92.4, 74.3, 79.4, 86.7, 75.3, 90.9, 86.1, 81.0, 85.1, \n",
    "    78.7, 73.5, 86.9, 87.4, 82.7, 81.9, 69.9, 77.2, 79.3, 83.3])\n",
    "\n",
    "pop_mean = 65.0\n",
    "\n",
    "one_sample_ttest(sample_scores, pop_mean, alpha=0.05)\n",
    "\n",
    "\n",
    "#to correct the wrongly recorded score\n",
    "corrected_scores = np.array([\n",
    "    84.0, 92.4, 74.3, 79.4, 86.7, 75.3, 80.9, 86.1, 81.0, 85.1, \n",
    "    78.7, 73.5, 86.9, 87.4, 82.7, 81.9, 69.9, 77.2, 79.3, 83.3\n",
    "])\n",
    "# Perform the one-sample t-test on the corrected scores\n",
    "one_sample_ttest(corrected_scores, pop_mean, alpha=0.05)\n",
    "\n",
    "\n",
    "sample_mean = np.mean(sample)\n",
    "sample_std = np.std(sample, ddof=1)\n",
    "effect_size= (sample_mean - pop_mean) / sample_std\n",
    "\n"
   ]
  },
  {
   "cell_type": "code",
   "execution_count": null,
   "metadata": {
    "scrolled": true
   },
   "outputs": [],
   "source": [
    "\n"
   ]
  },
  {
   "cell_type": "markdown",
   "metadata": {},
   "source": [
    "## Summary\n",
    "\n",
    "In this lab, you saw a quick introduction to hypothesis testing using frequentist methods with t-values and p-values. You saw how a one sample t-test can be applied to contexts where the population mean is unknown and you have a limited amount of sample data. You looked at all the stages required for such hypothesis testing with a description of steps and also, how to perform these functions in Python. The lesson also briefly explains the comparison of using p-value for statistical significance vs. effect sizes. "
   ]
  }
 ],
 "metadata": {
  "kernelspec": {
   "display_name": "Python 3",
   "language": "python",
   "name": "python3"
  },
  "language_info": {
   "codemirror_mode": {
    "name": "ipython",
    "version": 3
   },
   "file_extension": ".py",
   "mimetype": "text/x-python",
   "name": "python",
   "nbconvert_exporter": "python",
   "pygments_lexer": "ipython3",
   "version": "3.13.1"
  },
  "toc": {
   "base_numbering": 1,
   "nav_menu": {},
   "number_sections": true,
   "sideBar": true,
   "skip_h1_title": false,
   "title_cell": "Table of Contents",
   "title_sidebar": "Contents",
   "toc_cell": false,
   "toc_position": {},
   "toc_section_display": true,
   "toc_window_display": false
  }
 },
 "nbformat": 4,
 "nbformat_minor": 2
}
